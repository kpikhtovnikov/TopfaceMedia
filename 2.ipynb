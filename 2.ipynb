{
 "cells": [
  {
   "cell_type": "markdown",
   "id": "fleet-multimedia",
   "metadata": {},
   "source": [
    "## Я взял данные из максимальной производительности из 1 задачи(W=97)"
   ]
  },
  {
   "cell_type": "markdown",
   "id": "insured-morning",
   "metadata": {},
   "source": [
    "$$\n",
    "f(x) = x_{12} + x_{13}  + x_{21} + x_{22} + x_{31} + x_{33} \\rightarrow max \\\\  \n",
    "0.007x_{12} + 0.006x_{13} + 0.004x_{21} + 0.009x_{22} + 0.003x_{31} + 0.005x_{33} \\leq 97 \\\\\n",
    "9x_{12} + 14x_{13} \\leq 79800 \\\\\n",
    "16x_{21} + 9x_{22} \\leq 49800 \\\\\n",
    "12x_{31} + 12x_{33} \\leq 83400 \\\\\n",
    "x_{12} + x_{13} - x_{21} - x_{22} = 0 \\\\\n",
    "x_{12} + x_{13} - x_{31} - x_{33} = 0 \\\\\n",
    "x_{ij} \\geq 0, i \\in {1,2,3}, j \\in {1,2,3}  \n",
    "$$\n"
   ]
  },
  {
   "cell_type": "markdown",
   "id": "other-swimming",
   "metadata": {},
   "source": [
    "Таблица:\n",
    "\n",
    "| *  | x11   | x12   | x13   | x21   | x22   | x23   | x31   | x32 | x33   | Неравенство | b      |\n",
    "|----|-------|-------|-------|-------|-------|-------|-------|-----|-------|-------------|--------|\n",
    "| c  | 0     | 1     | 1     | 1     | 1     | 0     | 1     | 0   | 1     | -           | max(-1)|\n",
    "| y1 | 0     | 0.007 | 0.006 | 0.004 | 0.009 | 0     | 0.003 | 0   | 0.005 | <=          | 97     |\n",
    "| y2 | 0     | 9     | 14    | 0     | 0     | 0     | 0     | 0   | 0     | <=          | 79800  |\n",
    "| y3 | 0     | 0     | 0     | 16    | 9     | 0     | 0     | 0   | 0     | <=          | 49800  |\n",
    "| y4 | 0     | 0     | 0     | 0     | 0     | 0     | 12    | 0   | 12    | <=          | 83400  |\n",
    "| y5 | 0     | 1     | 1     | -1    | -1    | 0     | 0     | 0   | 0     |  =          | 0      |\n",
    "| y6 | 0     | 1     | 1     | 0     | 0     | 0     | -1    | 0   | -1    |  =          | 0      |"
   ]
  },
  {
   "cell_type": "code",
   "execution_count": 2,
   "id": "coupled-agency",
   "metadata": {},
   "outputs": [
    {
     "name": "stdout",
     "output_type": "stream",
     "text": [
      "Status: optimal\n",
      "Objective : -17377.333333333332\n",
      "x = \n",
      " [ 0.00e+00]\n",
      "[ 9.09e-13]\n",
      "[ 5.21e+03]\n",
      "[ 4.11e+02]\n",
      "[ 4.80e+03]\n",
      "[ 0.00e+00]\n",
      "[ 6.95e+03]\n",
      "[ 0.00e+00]\n",
      "[ 0.00e+00]\n",
      "\n"
     ]
    }
   ],
   "source": [
    "import numpy as np\n",
    "from cvxopt import matrix, solvers\n",
    "\n",
    "c = matrix([0, -1, -1, -1, -1, 0, -1, 0, -1], tc='d') #Целевая функция (минусы, потому что решаем задачу максимизации) \n",
    "\n",
    "G = matrix([[0, 0.007,  0.006,  0.004, 0.009, 0, 0.003,  0, 0.005],   # Коэффициенты при ограничениях-неравенствах (вида <=)\n",
    "            [    0,     9, 14,  0,     0,     0,     0,  0,     0],\n",
    "            [    0,     0,  0, 16,     9,     0,     0,  0,     0],\n",
    "            [    0,     0,  0,  0,     0,     0,    12,  0,    12],\n",
    "            [    0,     1,  1, -1,     -1,    0,     0,  0,     0],\n",
    "            [    0,     1,  1,  0,     0,     0,    -1,  0,    -1],\n",
    "            [   -1,     0,  0,  0,     0,     0,     0,  0,     0],\n",
    "            [    0,    -1,  0,  0,     0,     0,     0,  0,     0],\n",
    "            [    0,     0, -1,  0,     0,     0,     0,  0,     0],\n",
    "            [    0,     0,  0, -1,     0,     0,     0,  0,     0],\n",
    "            [    0,     0,  0,  0,    -1,     0,     0,  0,     0],\n",
    "            [    0,     0,  0,  0,     0,    -1,     0,  0,     0],\n",
    "            [    0,     0,  0,  0,     0,     0,    -1,  0,     0],\n",
    "            [    0,     0,  0,  0,     0,     0,     0, -1,     0],\n",
    "            [    0,     0,  0,  0,     0,     0,     0,  0,    -1]], tc='d')\n",
    "h = matrix([97,79800,49800,83400,0,0,0,0,0,0,0,0,0,0,0], tc='d')\n",
    "solution = solvers.lp(c, G.T, h, solver='glpk')\n",
    "print('Status:', solution['status'])\n",
    "print('Objective :', solution['primal objective'])\n",
    "print('x = \\n', solution['x'])\n"
   ]
  },
  {
   "cell_type": "markdown",
   "id": "dangerous-disorder",
   "metadata": {},
   "source": [
    "## Загруженность оборудования"
   ]
  },
  {
   "cell_type": "code",
   "execution_count": 24,
   "id": "pregnant-islam",
   "metadata": {},
   "outputs": [
    {
     "name": "stdout",
     "output_type": "stream",
     "text": [
      "\n",
      "3 группа полностью загружена\n"
     ]
    },
    {
     "data": {
      "text/plain": [
       "(72940.00000000001, 49776.0, 83400.0)"
      ]
     },
     "execution_count": 24,
     "metadata": {},
     "output_type": "execute_result"
    }
   ],
   "source": [
    "x_11 = 0.00e+00\n",
    "x_12 = 9.09e-13\n",
    "x_13 = 5.21e+03\n",
    "x_21 = 4.11e+02\n",
    "x_22 = 4.80e+03\n",
    "x_23 = 0.00e+00\n",
    "x_31 = 6.95e+03\n",
    "x_32 = 0.00e+00\n",
    "x_33 = 0.00e+00\n",
    "time1 = 9*x_12+14*x_13\n",
    "time2 = 16*x_21+9*x_22\n",
    "time3 = 12*x_31+12*x_33\n",
    "if (time1==79800):\n",
    "    print (\"\\n1 группа полностью загружена\")\n",
    "elif (time2==49800):\n",
    "    print (\"\\n2 группа полностью загружена\")\n",
    "elif (time3==83400):\n",
    "    print (\"\\n3 группа полностью загружена\")\n",
    "time1,time2,time3"
   ]
  },
  {
   "cell_type": "code",
   "execution_count": 4,
   "id": "blocked-momentum",
   "metadata": {
    "scrolled": false
   },
   "outputs": [
    {
     "name": "stdout",
     "output_type": "stream",
     "text": [
      "Status: optimal\n",
      "Objective: 17377.4 delta: 0.06666666666933452\n",
      "x = \n",
      " [ 0.00e+00]\n",
      "[-9.09e-13]\n",
      "[ 5.21e+03]\n",
      "[ 4.11e+02]\n",
      "[ 4.80e+03]\n",
      "[ 0.00e+00]\n",
      "[ 6.95e+03]\n",
      "[ 0.00e+00]\n",
      "[ 0.00e+00]\n",
      "\n",
      "z = \n",
      " [ 9.33e+01]\n",
      "[-0.00e+00]\n",
      "[ 6.67e-02]\n",
      "[ 6.00e-02]\n",
      "[ 4.40e-01]\n",
      "[-0.00e+00]\n",
      "[-0.00e+00]\n",
      "[ 9.33e-02]\n",
      "[-0.00e+00]\n",
      "[-0.00e+00]\n",
      "[-0.00e+00]\n",
      "[-0.00e+00]\n",
      "[-0.00e+00]\n",
      "[-0.00e+00]\n",
      "[ 1.87e-01]\n",
      "\n",
      "Increment 1: obj=17377.400 delta=0.067\n",
      "Basis changed at increment 1\n"
     ]
    }
   ],
   "source": [
    "# Исследование интервала осуществимости \n",
    "dh = matrix([0, 0, 1, 0, 0, 0, 0, 0, 0, 0, 0, 0, 0, 0, 0]);     # приращение к вектору правых частей\n",
    "#print(h,dh,h+dh)\n",
    "solution1 = solvers.lp(c, G.T, h + dh, solver='glpk')\n",
    "print('Status:', solution1['status'])\n",
    "print('Objective:', -solution1['primal objective'], 'delta:', -solution1['primal objective']-(-solution['primal objective']))\n",
    "print('x = \\n', solution1['x'])\n",
    "print('z = \\n',solution1['z'])\n",
    "\n",
    "prev_z= -solution['primal objective']\n",
    "a = 1\n",
    "while (True):\n",
    "    solution_i= solvers.lp(c, G.T, h + dh*a, solver='glpk')\n",
    "    if solution_i['status'] != 'optimal':\n",
    "        print(\"Couldn''t find a solution\")\n",
    "        break\n",
    "    new_z= -solution_i['primal objective']\n",
    "    delta_z= new_z-prev_z\n",
    "    print('Increment %d: obj=%.3f delta=%.3f' % (a, new_z, delta_z))\n",
    "    if abs(delta_z - (0.06)) > 1e-6:\n",
    "        print(\"Basis changed at increment %d\" % (a,))\n",
    "        break\n",
    "    prev_z = new_z\n",
    "    a = a + 1"
   ]
  },
  {
   "cell_type": "markdown",
   "id": "elementary-section",
   "metadata": {},
   "source": [
    "## В результате было получено следующее: \n",
    "“Status: optimal” - План работы оборудования найден. В x (Количество изделений) содержатся значения переменных $x_{ij}$ , а 17377.400 – это максимальное возможное значение целевой функции. \n",
    "Таким образом, оптимальный план предпологает:  \n",
    "$x_{11}$ = 0,  \n",
    "$x_{12}$ = 0,  \n",
    "$x_{13}$ = 5210,  \n",
    "$x_{21}$ = 411,  \n",
    "$x_{22}$ = 4800,  \n",
    "$x_{23}$ = 0,  \n",
    "$x_{31}$ = 6950,  \n",
    "$x_{32}$ = 0,  \n",
    "$x_{33}$ = 0\n",
    "## Анализ загруженности оборудования  \n",
    "time1 = 72940.0  \n",
    "time2 = 49776.0  \n",
    "time3 = 83400.0(3 группа полностью загружена)  \n",
    "Получили теневые цены (z).“Status: optimal”,говорит о том, что оптимальный план работы оборудования найден.  \n",
    "## Параметрическое изменение правых частей  \n",
    "Т.к в решении есть загруженная группа оборудования(3 группа), то средствами параметрического изменения правых частей было исследовано влияние величины фонда рабочего времени 3 группы оборудования на структуру решения (изменение фонда рабочего времени в сторону увеличения и уменьшения).  \n",
    "Поняли, что на 1 инкременте, значение теневой цены изменилось, т.е структура\n",
    "решения тоже изменилась.  \n",
    "Increment 1: obj=17377.400 delta=0.067  \n",
    "Basis changed at increment 1 \n",
    "Как видно из вывода, сгенерированного скриптом, без изменения состава базисных переменных данное ограничение не может быть ослаблено, что даст, и увеличение количество производства изделий нет смысла."
   ]
  },
  {
   "cell_type": "code",
   "execution_count": null,
   "id": "local-directory",
   "metadata": {},
   "outputs": [],
   "source": []
  }
 ],
 "metadata": {
  "kernelspec": {
   "display_name": "Python 3",
   "language": "python",
   "name": "python3"
  },
  "language_info": {
   "codemirror_mode": {
    "name": "ipython",
    "version": 3
   },
   "file_extension": ".py",
   "mimetype": "text/x-python",
   "name": "python",
   "nbconvert_exporter": "python",
   "pygments_lexer": "ipython3",
   "version": "3.8.5"
  }
 },
 "nbformat": 4,
 "nbformat_minor": 5
}
